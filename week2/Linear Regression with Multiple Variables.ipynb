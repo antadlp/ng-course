{
 "cells": [
  {
   "cell_type": "markdown",
   "metadata": {},
   "source": [
    "# 2 Linear regression with one variable"
   ]
  },
  {
   "cell_type": "markdown",
   "metadata": {},
   "source": [
    "\"In this part of this exercise, you will implement linear regression with one\n",
    "variable to predict profits for a food truck. Suppose you are the CEO of a\n",
    "restaurant franchise and are considering different cities for opening a new\n",
    "outlet. The chain already has trucks in various cities and you have data for\n",
    "profits and populations from the cities.\" <br>\n",
    "\n",
    "\"You would like to use this data to help you select which city to expand\n",
    "to next.\n",
    "The file ex1data1.txt contains the dataset for our linear regression prob-\n",
    "lem. The first column is the population of a city and the second column is\n",
    "the profit of a food truck in that city. A negative value for profit indicates a\n",
    "loss.\n",
    "The ex1.m script has already been set up to load this data for you.\""
   ]
  },
  {
   "cell_type": "markdown",
   "metadata": {
    "collapsed": true
   },
   "source": [
    "## 2.1 Plotting the data"
   ]
  },
  {
   "cell_type": "markdown",
   "metadata": {},
   "source": [
    "\"Before starting on any task, it is often useful to understand the data by\n",
    "visualizing it. For this dataset, you can use a scatter plot to visualize the\n",
    "data, since it has only two properties to plot (profit and population). (Many\n",
    "other problems that you will encounter in real life are multi-dimensional and\n",
    "can’t be plotted on a 2-d plot.)\n",
    "In ex1.m, the dataset is loaded from the data file into the variables X\n",
    "and y:\"\n"
   ]
  },
  {
   "cell_type": "code",
   "execution_count": 7,
   "metadata": {
    "collapsed": true
   },
   "outputs": [],
   "source": [
    "#Cell to show how is the code in the \n",
    "#script plotData.py \n",
    "\n",
    "#Note that in the code \n",
    "#below a call is made to \n",
    "#the plotData function -> \"from plotData import *\"\n",
    "\n",
    "import numpy as np\n",
    "import pandas as pd\n",
    "import matplotlib.pyplot as plt\n",
    "\n",
    "def plotData(x, y):\n",
    "    \n",
    "    phi = (1 + np.sqrt(5))/2\n",
    "    height = 10\n",
    "    width = 8*phi\n",
    "\n",
    "    plt.figure(figsize=(width, height))\n",
    "    plt.plot(X, y, 'rx', markersize=10)\n",
    "    plt.grid(True)\n",
    "    plt.ylabel('Profit in $10,000s')\n",
    "    plt.xlabel('Population of City in 10,000s')\n",
    "    \n",
    "    return"
   ]
  },
  {
   "cell_type": "code",
   "execution_count": 17,
   "metadata": {},
   "outputs": [
    {
     "name": "stdout",
     "output_type": "stream",
     "text": [
      "Plotting Data ..\n"
     ]
    },
    {
     "data": {
      "image/png": "[encoded data removed]",
      "text/plain": [
       "<matplotlib.figure.Figure at 0x7f2352648f98>"
      ]
     },
     "metadata": {},
     "output_type": "display_data"
    }
   ],
   "source": [
    "from python_lib.plotData import *\n",
    "import pandas as pd\n",
    "%matplotlib inline\n",
    "#%matplotlib tk for a window\n",
    "\n",
    "print(\"Plotting Data ..\")\n",
    "data = pd.read_csv('data/ex1data1.txt', header=None)\n",
    "X = data.values[:,0]\n",
    "y = data.values[:,1]\n",
    "m = len(data)\n",
    "\n",
    "plotData(X, y)\n"
   ]
  },
  {
   "cell_type": "markdown",
   "metadata": {
    "collapsed": true
   },
   "source": [
    "## 2.2 Gradient Descent"
   ]
  },
  {
   "cell_type": "markdown",
   "metadata": {},
   "source": [
    "\"In this part, you will fit the linear regression parameters θ to our dataset\n",
    "using gradient descent.\""
   ]
  },
  {
   "cell_type": "markdown",
   "metadata": {},
   "source": [
    "### 2.2.1 Update Equations"
   ]
  },
  {
   "cell_type": "markdown",
   "metadata": {},
   "source": [
    "\"The objective of linear regression is to minimize the cost function\""
   ]
  },
  {
   "cell_type": "markdown",
   "metadata": {},
   "source": [
    "$$J\\left(\\theta\\right)=\\cfrac{1}{2m}\\,\\sum_{i=1}^{m}\\left(h_{\\theta}\\left(x^{\\left(i\\right)}\\right)-y^{\\left(i\\right)}\\right)^{2}$$\n"
   ]
  },
  {
   "cell_type": "markdown",
   "metadata": {},
   "source": [
    "\"where the hypothesis hθ (x) is given by the linear model\""
   ]
  },
  {
   "cell_type": "markdown",
   "metadata": {},
   "source": [
    "$$\n",
    "h_{\\theta}\\left(x\\right)=\\theta^{T}x=\\theta_{0}+\\theta_{1}x_{1}\n",
    "$$"
   ]
  },
  {
   "cell_type": "markdown",
   "metadata": {},
   "source": [
    "\"Recall that the parameters of your model are the θj values. These are\n",
    "the values you will adjust to minimize cost J(θ). One way to do this is to\n",
    "use the batch gradient descent algorithm. In batch gradient descent, each\n",
    "iteration performs the update\"\n"
   ]
  },
  {
   "cell_type": "markdown",
   "metadata": {
    "collapsed": true
   },
   "source": [
    "$$\n",
    "\\theta_{j}:=\\theta_{j}-\\alpha\\cfrac{1}{m}\\,\\sum_{i=1}^{m}\\left(h_{\\theta}\\left(x^{\\left(i\\right)}\\right)-y^{\\left(i\\right)}\\right)x_{j}^{i}\n",
    "$$"
   ]
  },
  {
   "cell_type": "markdown",
   "metadata": {
    "collapsed": true
   },
   "source": [
    "\"With each step of gradient descent, your parameters θj come closer to the\n",
    "optimal values that will achieve the lowest cost J(θ).\""
   ]
  },
  {
   "cell_type": "markdown",
   "metadata": {},
   "source": [
    "\"Implementation Note: We store each example as a row in the the X\n",
    "matrix in Octave/MATLAB. To take into account the intercept term (θ0 ),\n",
    "we add an additional first column to X and set it to all ones. This allows\n",
    "us to treat θ0 as simply another ‘feature’.\n",
    "\""
   ]
  },
  {
   "cell_type": "markdown",
   "metadata": {},
   "source": [
    "### 2.2.2 Implementation"
   ]
  },
  {
   "cell_type": "markdown",
   "metadata": {},
   "source": [
    "\"In ex1.m, we have already set up the data for linear regression. In the\n",
    "following lines, we add another dimension to our data to accommodate the\n",
    "θ0 intercept term. We also initialize the initial parameters to 0 and the\n",
    "learning rate alpha to 0.01\""
   ]
  },
  {
   "cell_type": "markdown",
   "metadata": {},
   "source": [
    "### 2.2.3 Computing the cost  $\\, J(\\theta)$"
   ]
  },
  {
   "cell_type": "markdown",
   "metadata": {},
   "source": [
    "\"As you perform gradient descent to learn minimize the cost function J(θ),\n",
    "it is helpful to monitor the convergence by computing the cost. In this\n",
    "section, you will implement a function to calculate J(θ) so you can check the\n",
    "convergence of your gradient descent implementation.\n",
    "Your next task is to complete the code in the file computeCost.m, which\n",
    "is a function that computes J(θ). As you are doing this, remember that the\n",
    "variables X and y are not scalar values, but matrices whose rows represent\n",
    "the examples from the training set.\n",
    "Once you have completed the function, the next step in ex1.m will run\n",
    "computeCost once using θ initialized to zeros, and you will see the cost\n",
    "printed to the screen.\n",
    "You should expect to see a cost of 32.07.\n",
    "\""
   ]
  },
  {
   "cell_type": "code",
   "execution_count": 13,
   "metadata": {
    "collapsed": true
   },
   "outputs": [],
   "source": [
    "import numpy as np\n",
    "\n",
    "def computeCost(X, y, theta):\n",
    "    \n",
    "    m = y.shape[0]\n",
    "    \n",
    "    # to only do once the matrix multiplication \n",
    "    # the variable h_y was added    \n",
    "    h_y = np.matmul(X, theta) - y\n",
    "    \n",
    "    # [0, 0] argument is to only give the value and not an\n",
    "    # array of arrays\n",
    "    return (1/(2*m))*np.matmul(h_y.transpose(), h_y)[0,0]"
   ]
  },
  {
   "cell_type": "code",
   "execution_count": 19,
   "metadata": {},
   "outputs": [
    {
     "name": "stdout",
     "output_type": "stream",
     "text": [
      "Testing the cost function ...\n",
      "With theta = [[0], [0]]\n",
      "Cost computed = 32.072733877455676\n",
      "Expected cost value (approx) 32.07\n",
      "With theta = [[-1], [2]]\n",
      "Cost computed = 54.24245508201238\n",
      "Expected cost value (approx) 54.24\n"
     ]
    }
   ],
   "source": [
    "import numpy as np\n",
    "import pandas as pd\n",
    "from python_lib.computeCost import *\n",
    "\n",
    "data = pd.read_csv('data/ex1data1.txt', header=None)\n",
    "m = len(data)\n",
    "\n",
    "X = data.values[:,0].reshape((m, 1))\n",
    "y = data.values[:,1].reshape((m, 1))\n",
    "\n",
    "# \"add a column of ones to X\"\n",
    "X = np.hstack((np.ones((m, 1)), X))\n",
    "\n",
    "# \"initialize fitting parameters\"\n",
    "theta = np.array([[0], [0]])\n",
    "\n",
    "\n",
    "print(\"Testing the cost function ...\")\n",
    "\n",
    "\n",
    "J = computeCost(X, y, theta)\n",
    "print(\"With theta = [[0], [0]]\\nCost computed = {}\".\\\n",
    "      format(J))\n",
    "print(\"Expected cost value (approx) 32.07\")\n",
    "\n",
    "J = computeCost(X, y, np.array([[-1], [2]]))\n",
    "print(\"With theta = [[-1], [2]]\\nCost computed = {}\".\\\n",
    "      format(J))\n",
    "print(\"Expected cost value (approx) 54.24\")"
   ]
  },
  {
   "cell_type": "code",
   "execution_count": null,
   "metadata": {
    "collapsed": true
   },
   "outputs": [],
   "source": []
  }
 ],
 "metadata": {
  "kernelspec": {
   "display_name": "Python 3",
   "language": "python",
   "name": "python3"
  },
  "language_info": {
   "codemirror_mode": {
    "name": "ipython",
    "version": 3
   },
   "file_extension": ".py",
   "mimetype": "text/x-python",
   "name": "python",
   "nbconvert_exporter": "python",
   "pygments_lexer": "ipython3",
   "version": "3.6.2"
  }
 },
 "nbformat": 4,
 "nbformat_minor": 2
}
